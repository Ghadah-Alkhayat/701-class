{
 "cells": [
  {
   "cell_type": "markdown",
   "metadata": {
    "collapsed": false
   },
   "source": [
    "# Two-Tailed Test of Population Mean with Known Variance"
   ]
  },
  {
   "cell_type": "markdown",
   "metadata": {
    "collapsed": false
   },
   "source": [
    "### <font color='green'>Problem</font>"
   ]
  },
  {
   "cell_type": "markdown",
   "metadata": {
    "collapsed": false
   },
   "source": [
    "Suppose the mean weight of King Penguins found in an Antarctic colony last year was 15.4 kg. In a sample of 35 penguins same time this year in the same colony, the mean penguin weight is 14.6 kg. Assume the population standard deviation is 2.5 kg. At .05 significance level, can we reject the null hypothesis that the mean penguin weight does not differ from last year?"
   ]
  },
  {
   "cell_type": "markdown",
   "metadata": {
    "collapsed": false
   },
   "source": [
    "### <font color='blue'>Solution 1</font>"
   ]
  },
  {
   "cell_type": "markdown",
   "metadata": {
    "collapsed": false
   },
   "source": [
    "H0:μ = 15.4.\n",
    "\n",
    "Ha:μ ≠ 15.4.\n"
   ]
  },
  {
   "cell_type": "code",
   "execution_count": 4,
   "metadata": {
    "collapsed": false
   },
   "outputs": [
    {
     "data": {
      "text/html": [
       "-1.89314553059188"
      ],
      "text/latex": [
       "-1.89314553059188"
      ],
      "text/markdown": [
       "-1.89314553059188"
      ],
      "text/plain": [
       "[1] -1.893146"
      ]
     },
     "execution_count": 4,
     "metadata": {
     },
     "output_type": "execute_result"
    }
   ],
   "source": [
    "xbar = 14.6            # sample mean\n",
    "mu0 = 15.4             # hypothesized value\n",
    "sigma = 2.5            # population standard deviation\n",
    "n = 35                 # sample size\n",
    "z = (xbar-mu0)/(sigma/sqrt(n))\n",
    "                      # test statistic\n",
    "z"
   ]
  },
  {
   "cell_type": "code",
   "execution_count": 5,
   "metadata": {
    "collapsed": false
   },
   "outputs": [
    {
     "data": {
      "text/html": [
       "<ol class=list-inline>\n",
       "\t<li>-1.95996398454005</li>\n",
       "\t<li>1.95996398454005</li>\n",
       "</ol>\n"
      ],
      "text/latex": [
       "\\begin{enumerate*}\n",
       "\\item -1.95996398454005\n",
       "\\item 1.95996398454005\n",
       "\\end{enumerate*}\n"
      ],
      "text/markdown": [
       "1. -1.95996398454005\n",
       "2. 1.95996398454005\n",
       "\n",
       "\n"
      ],
      "text/plain": [
       "[1] -1.959964  1.959964"
      ]
     },
     "execution_count": 5,
     "metadata": {
     },
     "output_type": "execute_result"
    }
   ],
   "source": [
    "# compute the critical value at .05 significance level.\n",
    "alpha = .05\n",
    "z.half.alpha = qnorm(1-alpha/2) # returns the associated Z-score\"\n",
    "c(-z.half.alpha, z.half.alpha)"
   ]
  },
  {
   "cell_type": "markdown",
   "metadata": {
    "collapsed": false
   },
   "source": [
    "**The test statistic -1.8931 lies between the critical values -1.9600 and 1.9600. Hence, at .05 significance level, we do not reject the null hypothesis that the mean penguin weight does not differ from last year.**"
   ]
  },
  {
   "cell_type": "markdown",
   "metadata": {
    "collapsed": false
   },
   "source": [
    " ### <font color='blue'>Solution 2</font>"
   ]
  },
  {
   "cell_type": "code",
   "execution_count": 6,
   "metadata": {
    "collapsed": false
   },
   "outputs": [
    {
     "data": {
      "text/html": [
       "0.0583385186868964"
      ],
      "text/latex": [
       "0.0583385186868964"
      ],
      "text/markdown": [
       "0.0583385186868964"
      ],
      "text/plain": [
       "[1] 0.05833852"
      ]
     },
     "execution_count": 6,
     "metadata": {
     },
     "output_type": "execute_result"
    }
   ],
   "source": [
    "pval = 2 * pnorm (z)  # It doubles the lower tail p-value as the sample mean is less than the hypothesized value\n",
    "pval                  # two−tailed p−value\n"
   ]
  },
  {
   "cell_type": "markdown",
   "metadata": {
    "collapsed": false
   },
   "source": [
    "**it is greater than the .05 significance level, we do not reject the null hypothesis**"
   ]
  },
  {
   "cell_type": "markdown",
   "metadata": {
    "collapsed": false
   },
   "source": [
    "# Two-Tailed Test of Population Mean with Unknown Variance"
   ]
  },
  {
   "cell_type": "markdown",
   "metadata": {
    "collapsed": false
   },
   "source": [
    "### <font color='green'>Problem</font>"
   ]
  },
  {
   "cell_type": "markdown",
   "metadata": {
    "collapsed": false
   },
   "source": [
    "Suppose the mean weight of King Penguins found in an Antarctic colony last year was 15.4 kg. In a sample of 35 penguins same time this year in the same colony, the mean penguin weight is 14.6 kg. Assume the sample standard deviation is 2.5 kg. At .05 significance level, can we reject the null hypothesis that the mean penguin weight does not differ from last year?"
   ]
  },
  {
   "cell_type": "markdown",
   "metadata": {
    "collapsed": false
   },
   "source": [
    "### <font color='blue'>Solution 1</font>"
   ]
  },
  {
   "cell_type": "markdown",
   "metadata": {
    "collapsed": false
   },
   "source": [
    "H0:μ = 15.4.\n",
    "\n",
    "Ha:μ ≠ 15.4."
   ]
  },
  {
   "cell_type": "code",
   "execution_count": 7,
   "metadata": {
    "collapsed": false
   },
   "outputs": [
    {
     "data": {
      "text/html": [
       "-1.89314553059188"
      ],
      "text/latex": [
       "-1.89314553059188"
      ],
      "text/markdown": [
       "-1.89314553059188"
      ],
      "text/plain": [
       "[1] -1.893146"
      ]
     },
     "execution_count": 7,
     "metadata": {
     },
     "output_type": "execute_result"
    }
   ],
   "source": [
    "xbar = 14.6            # sample mean \n",
    "mu0 = 15.4             # hypothesized value \n",
    "s = 2.5                # sample standard deviation \n",
    "n = 35                 # sample size \n",
    "t = (xbar-mu0)/(s/sqrt(n))\n",
    "t                      # test statistic "
   ]
  },
  {
   "cell_type": "code",
   "execution_count": 9,
   "metadata": {
    "collapsed": false
   },
   "outputs": [
    {
     "data": {
      "text/html": [
       "<ol class=list-inline>\n",
       "\t<li>-2.03224450931772</li>\n",
       "\t<li>2.03224450931772</li>\n",
       "</ol>\n"
      ],
      "text/latex": [
       "\\begin{enumerate*}\n",
       "\\item -2.03224450931772\n",
       "\\item 2.03224450931772\n",
       "\\end{enumerate*}\n"
      ],
      "text/markdown": [
       "1. -2.03224450931772\n",
       "2. 2.03224450931772\n",
       "\n",
       "\n"
      ],
      "text/plain": [
       "[1] -2.032245  2.032245"
      ]
     },
     "execution_count": 9,
     "metadata": {
     },
     "output_type": "execute_result"
    }
   ],
   "source": [
    "# compute the critical values at .05 significance level.\n",
    "alpha = .05 \n",
    "t.half.alpha = qt(1-alpha/2, df=n-1) \n",
    "c(-t.half.alpha, t.half.alpha) "
   ]
  },
  {
   "cell_type": "markdown",
   "metadata": {
    "collapsed": false
   },
   "source": [
    "**The test statistic -1.8931 lies between the critical values -2.0322, and 2.0322. Hence, at .05 significance level, we do not reject the null hypothesis that the mean penguin weight does not differ from last year**"
   ]
  },
  {
   "cell_type": "markdown",
   "metadata": {
    "collapsed": false
   },
   "source": [
    "### <font color='blue'>Solution 2</font>"
   ]
  },
  {
   "cell_type": "code",
   "execution_count": 10,
   "metadata": {
    "collapsed": false
   },
   "outputs": [
    {
     "data": {
      "text/html": [
       "0.0668755205955539"
      ],
      "text/latex": [
       "0.0668755205955539"
      ],
      "text/markdown": [
       "0.0668755205955539"
      ],
      "text/plain": [
       "[1] 0.06687552"
      ]
     },
     "execution_count": 10,
     "metadata": {
     },
     "output_type": "execute_result"
    }
   ],
   "source": [
    "# compute the two-tailed p-value of the test statistic\n",
    "pval = 2* pt(t, df=n-1)  # It doubles the lower tail p-value as the sample mean is less than the hypothesized value.\n",
    "pval                      # two−tailed p−value "
   ]
  },
  {
   "cell_type": "markdown",
   "metadata": {
    "collapsed": false
   },
   "source": [
    "**it is greater than the .05 significance level, we do not reject the null hypothesis that μ = 15.4**"
   ]
  },
  {
   "cell_type": "markdown",
   "metadata": {
    "collapsed": false
   },
   "source": [
    "# Lower (left) Tail Test of Population Mean with Known Variance"
   ]
  },
  {
   "cell_type": "markdown",
   "metadata": {
    "collapsed": false
   },
   "source": [
    "### <font color='green'>Problem</font>"
   ]
  },
  {
   "cell_type": "markdown",
   "metadata": {
    "collapsed": false
   },
   "source": [
    "Suppose the manufacturer claims that the mean lifetime of a light bulb is more than 10,000 hours. In a sample of 30 light bulbs, it was found that they only last 9,900 hours on average. Assume the population standard deviation is 120 hours. At .05 significance level, can we reject the claim by the manufacturer?"
   ]
  },
  {
   "cell_type": "markdown",
   "metadata": {
    "collapsed": false
   },
   "source": [
    "### <font color='blue'>Solution 1</font>"
   ]
  },
  {
   "cell_type": "markdown",
   "metadata": {
    "collapsed": false
   },
   "source": [
    "H0: μ ≥ 10000\n",
    "\n",
    "Ha: μ < 10000"
   ]
  },
  {
   "cell_type": "code",
   "execution_count": 11,
   "metadata": {
    "collapsed": false
   },
   "outputs": [
    {
     "data": {
      "text/html": [
       "-4.56435464587638"
      ],
      "text/latex": [
       "-4.56435464587638"
      ],
      "text/markdown": [
       "-4.56435464587638"
      ],
      "text/plain": [
       "[1] -4.564355"
      ]
     },
     "execution_count": 11,
     "metadata": {
     },
     "output_type": "execute_result"
    }
   ],
   "source": [
    "xbar = 9900            # sample mean \n",
    "mu0 = 10000            # hypothesized value \n",
    "sigma = 120            # population standard deviation \n",
    "n = 30                 # sample size \n",
    "z = (xbar-mu0)/(sigma/sqrt(n))\n",
    "z                      # test statistic"
   ]
  },
  {
   "cell_type": "code",
   "execution_count": 2,
   "metadata": {
    "collapsed": false
   },
   "outputs": [
    {
     "data": {
      "text/html": [
       "-1.64485362695147"
      ],
      "text/latex": [
       "-1.64485362695147"
      ],
      "text/markdown": [
       "-1.64485362695147"
      ],
      "text/plain": [
       "[1] -1.644854"
      ]
     },
     "execution_count": 2,
     "metadata": {
     },
     "output_type": "execute_result"
    }
   ],
   "source": [
    "#  compute the critical value at .05 significance level.\n",
    "alpha = .05\n",
    "z.alpha = qnorm(1-alpha)\n",
    "-z.alpha               # critical value"
   ]
  },
  {
   "cell_type": "markdown",
   "metadata": {
    "collapsed": false
   },
   "source": [
    "**The test statistic -4.5644 is less than the critical value of -1.6449. Hence, at .05 significance level, we reject the claim that mean lifetime of a light bulb is above 10,000 hours.**"
   ]
  },
  {
   "cell_type": "markdown",
   "metadata": {
    "collapsed": false
   },
   "source": [
    "### <font color='blue'>Solution 2</font>"
   ]
  },
  {
   "cell_type": "code",
   "execution_count": 12,
   "metadata": {
    "collapsed": false
   },
   "outputs": [
    {
     "data": {
      "text/html": [
       "2.50516597819522e-06"
      ],
      "text/latex": [
       "2.50516597819522e-06"
      ],
      "text/markdown": [
       "2.50516597819522e-06"
      ],
      "text/plain": [
       "[1] 2.505166e-06"
      ]
     },
     "execution_count": 12,
     "metadata": {
     },
     "output_type": "execute_result"
    }
   ],
   "source": [
    "# compute the lower tail p-value\n",
    "pval = pnorm(z)\n",
    "pval                   # lower tail p−value "
   ]
  },
  {
   "cell_type": "markdown",
   "metadata": {
    "collapsed": false
   },
   "source": [
    "**less than the .05 significance level, we reject the null hypothesis**"
   ]
  },
  {
   "cell_type": "markdown",
   "metadata": {
    "collapsed": false
   },
   "source": [
    "# Lower (left) Tail Test of Population Mean with Unknown Variance"
   ]
  },
  {
   "cell_type": "markdown",
   "metadata": {
    "collapsed": false
   },
   "source": [
    "### <font color='green'>Problem</font>"
   ]
  },
  {
   "cell_type": "markdown",
   "metadata": {
    "collapsed": false
   },
   "source": [
    "Suppose the manufacturer claims that the mean lifetime of a light bulb is more than 10,000 hours. In a sample of 30 light bulbs, it was found that they only last 9,900 hours on average. Assume the sample standard deviation is 125 hours. At .05 significance level, can we reject the claim by the manufacturer?"
   ]
  },
  {
   "cell_type": "markdown",
   "metadata": {
    "collapsed": false
   },
   "source": [
    "### <font color='blue'>Solution 1</font>"
   ]
  },
  {
   "cell_type": "markdown",
   "metadata": {
    "collapsed": false
   },
   "source": [
    "H0: μ ≥ 10000\n",
    "\n",
    "Ha: μ < 10000"
   ]
  },
  {
   "cell_type": "code",
   "execution_count": 13,
   "metadata": {
    "collapsed": false
   },
   "outputs": [
    {
     "data": {
      "text/html": [
       "-4.38178046004133"
      ],
      "text/latex": [
       "-4.38178046004133"
      ],
      "text/markdown": [
       "-4.38178046004133"
      ],
      "text/plain": [
       "[1] -4.38178"
      ]
     },
     "execution_count": 13,
     "metadata": {
     },
     "output_type": "execute_result"
    }
   ],
   "source": [
    "xbar = 9900            # sample mean \n",
    "mu0 = 10000            # hypothesized value \n",
    "s = 125                # sample standard deviation \n",
    "n = 30                 # sample size \n",
    "t = (xbar-mu0)/(s/sqrt(n)) \n",
    "t                      # test statistic "
   ]
  },
  {
   "cell_type": "code",
   "execution_count": 14,
   "metadata": {
    "collapsed": false
   },
   "outputs": [
    {
     "data": {
      "text/html": [
       "-1.6991270265335"
      ],
      "text/latex": [
       "-1.6991270265335"
      ],
      "text/markdown": [
       "-1.6991270265335"
      ],
      "text/plain": [
       "[1] -1.699127"
      ]
     },
     "execution_count": 14,
     "metadata": {
     },
     "output_type": "execute_result"
    }
   ],
   "source": [
    "# compute the critical value at .05 significance level.\n",
    "alpha = .05 \n",
    "t.alpha = qt(1-alpha, df=n-1) \n",
    "-t.alpha               # critical value \n"
   ]
  },
  {
   "cell_type": "markdown",
   "metadata": {
    "collapsed": false
   },
   "source": [
    "**The test statistic -4.3818 is less than the critical value of -1.6991. Hence, at .05 significance level, we can reject the claim that mean lifetime of a light bulb is above 10,000 hours**"
   ]
  },
  {
   "cell_type": "markdown",
   "metadata": {
    "collapsed": false
   },
   "source": [
    "### <font color='blue'>Solution 2</font>"
   ]
  },
  {
   "cell_type": "code",
   "execution_count": 15,
   "metadata": {
    "collapsed": false
   },
   "outputs": [
    {
     "data": {
      "text/html": [
       "7.03502572901089e-05"
      ],
      "text/latex": [
       "7.03502572901089e-05"
      ],
      "text/markdown": [
       "7.03502572901089e-05"
      ],
      "text/plain": [
       "[1] 7.035026e-05"
      ]
     },
     "execution_count": 15,
     "metadata": {
     },
     "output_type": "execute_result"
    }
   ],
   "source": [
    "# compute the lower tail p-value of the test statistic\n",
    "pval = pt(t, df=n-1) \n",
    "pval                   # lower tail p−value"
   ]
  },
  {
   "cell_type": "markdown",
   "metadata": {
    "collapsed": false
   },
   "source": [
    "**it is less than the .05 significance level, we reject the null hypothesis that μ ≥ 10000.**"
   ]
  },
  {
   "cell_type": "markdown",
   "metadata": {
    "collapsed": false
   },
   "source": [
    "# Upper (right) Tail Test of Population Mean with Known Variance"
   ]
  },
  {
   "cell_type": "markdown",
   "metadata": {
    "collapsed": false
   },
   "source": [
    "### <font color='green'>Problem</font>"
   ]
  },
  {
   "cell_type": "markdown",
   "metadata": {
    "collapsed": false
   },
   "source": [
    "Suppose the food label on a cookie bag states that there is at most 2 grams of saturated fat in a single cookie. In a sample of 35 cookies, it is found that the mean amount of saturated fat per cookie is 2.1 grams. Assume that the population standard deviation is 0.25 grams. At .05 significance level, can we reject the claim on food label?"
   ]
  },
  {
   "cell_type": "markdown",
   "metadata": {
    "collapsed": false
   },
   "source": [
    "### <font color='blue'>Solution 1</font>"
   ]
  },
  {
   "cell_type": "markdown",
   "metadata": {
    "collapsed": false
   },
   "source": [
    "H0: μ ≤ 2\n",
    "\n",
    "Ha: μ > 2"
   ]
  },
  {
   "cell_type": "code",
   "execution_count": 16,
   "metadata": {
    "collapsed": false
   },
   "outputs": [
    {
     "data": {
      "text/html": [
       "2.36643191323985"
      ],
      "text/latex": [
       "2.36643191323985"
      ],
      "text/markdown": [
       "2.36643191323985"
      ],
      "text/plain": [
       "[1] 2.366432"
      ]
     },
     "execution_count": 16,
     "metadata": {
     },
     "output_type": "execute_result"
    }
   ],
   "source": [
    "xbar = 2.1             # sample mean \n",
    "mu0 = 2                # hypothesized value \n",
    "sigma = 0.25           # population standard deviation\n",
    "n = 35                 # sample size \n",
    "z = (xbar-mu0)/(sigma/sqrt(n))\n",
    "z                      # test statistic\n"
   ]
  },
  {
   "cell_type": "code",
   "execution_count": 17,
   "metadata": {
    "collapsed": false
   },
   "outputs": [
    {
     "data": {
      "text/html": [
       "1.64485362695147"
      ],
      "text/latex": [
       "1.64485362695147"
      ],
      "text/markdown": [
       "1.64485362695147"
      ],
      "text/plain": [
       "[1] 1.644854"
      ]
     },
     "execution_count": 17,
     "metadata": {
     },
     "output_type": "execute_result"
    }
   ],
   "source": [
    "# compute the critical value at .05 significance level.\n",
    "alpha = .05\n",
    "z.alpha = qnorm(1-alpha) \n",
    "z.alpha                # critical value "
   ]
  },
  {
   "cell_type": "markdown",
   "metadata": {
    "collapsed": false
   },
   "source": [
    "**The test statistic 2.3664 is greater than the critical value of 1.6449. Hence, at .05 significance level, we reject the claim that there is at most 2 grams of saturated fat in a cookie**"
   ]
  },
  {
   "cell_type": "markdown",
   "metadata": {
    "collapsed": false
   },
   "source": [
    "### <font color='blue'>Solution 2</font>"
   ]
  },
  {
   "cell_type": "code",
   "execution_count": 6,
   "metadata": {
    "collapsed": false
   },
   "outputs": [
    {
     "data": {
      "text/html": [
       "0.00898023876303933"
      ],
      "text/latex": [
       "0.00898023876303933"
      ],
      "text/markdown": [
       "0.00898023876303933"
      ],
      "text/plain": [
       "[1] 0.008980239"
      ]
     },
     "execution_count": 6,
     "metadata": {
     },
     "output_type": "execute_result"
    }
   ],
   "source": [
    "# compute the upper tail p-value\n",
    "pval = pnorm(z, lower.tail=FALSE) \n",
    "pval                   # upper tail p−value "
   ]
  },
  {
   "cell_type": "markdown",
   "metadata": {
    "collapsed": false
   },
   "source": [
    "**less than the .05 significance level, we reject the null hypothesis**"
   ]
  },
  {
   "cell_type": "code",
   "execution_count": 20,
   "metadata": {
    "collapsed": false
   },
   "outputs": [
    {
     "data": {
      "text/html": [
       "0.033437760297777"
      ],
      "text/latex": [
       "0.033437760297777"
      ],
      "text/markdown": [
       "0.033437760297777"
      ],
      "text/plain": [
       "[1] 0.03343776"
      ]
     },
     "execution_count": 20,
     "metadata": {
     },
     "output_type": "execute_result"
    }
   ],
   "source": [
    "# compute the lower tail p-value of the test statistic\n",
    "pval = pt(t, df=n-1)\n",
    "pval                   # lower tail p−value "
   ]
  },
  {
   "cell_type": "markdown",
   "metadata": {
    "collapsed": false
   },
   "source": [
    "**it is ess than the .05 significance level, we reject the null hypothesis that μ ≥ 10000.**"
   ]
  },
  {
   "cell_type": "markdown",
   "metadata": {
    "collapsed": false
   },
   "source": [
    "# Upper (right) Tail Test of Population Mean with Unknown Variance"
   ]
  },
  {
   "cell_type": "markdown",
   "metadata": {
    "collapsed": false
   },
   "source": [
    "### <font color='green'>Problem</font>"
   ]
  },
  {
   "cell_type": "markdown",
   "metadata": {
    "collapsed": false
   },
   "source": [
    "Suppose the food label on a cookie bag states that there is at most 2 grams of saturated fat in a single cookie. In a sample of 35 cookies, it is found that the mean amount of saturated fat per cookie is 2.1 grams. Assume that the sample standard deviation is 0.3 gram. At .05 significance level, can we reject the claim on food label?"
   ]
  },
  {
   "cell_type": "markdown",
   "metadata": {
    "collapsed": false
   },
   "source": [
    "### <font color='blue'>Solution 1</font>"
   ]
  },
  {
   "cell_type": "markdown",
   "metadata": {
    "collapsed": false
   },
   "source": [
    "H0: μ ≤ 2\n",
    "\n",
    "Ha: μ > 2"
   ]
  },
  {
   "cell_type": "code",
   "execution_count": 19,
   "metadata": {
    "collapsed": false
   },
   "outputs": [
    {
     "data": {
      "text/html": [
       "1.97202659436654"
      ],
      "text/latex": [
       "1.97202659436654"
      ],
      "text/markdown": [
       "1.97202659436654"
      ],
      "text/plain": [
       "[1] 1.972027"
      ]
     },
     "execution_count": 19,
     "metadata": {
     },
     "output_type": "execute_result"
    }
   ],
   "source": [
    "xbar = 2.1             # sample mean \n",
    "mu0 = 2                # hypothesized value \n",
    "s = 0.3                # sample standard deviation \n",
    "n = 35                 # sample size \n",
    "t = (xbar-mu0)/(s/sqrt(n)) \n",
    "t                      # test statistic "
   ]
  },
  {
   "cell_type": "code",
   "execution_count": 20,
   "metadata": {
    "collapsed": false
   },
   "outputs": [
    {
     "data": {
      "text/html": [
       "1.69092425518685"
      ],
      "text/latex": [
       "1.69092425518685"
      ],
      "text/markdown": [
       "1.69092425518685"
      ],
      "text/plain": [
       "[1] 1.690924"
      ]
     },
     "execution_count": 20,
     "metadata": {
     },
     "output_type": "execute_result"
    }
   ],
   "source": [
    "# compute the critical value at .05 significance level.\n",
    "alpha = .05 \n",
    "t.alpha = qt(1-alpha, df=n-1) \n",
    "t.alpha                # critical value"
   ]
  },
  {
   "cell_type": "markdown",
   "metadata": {
    "collapsed": false
   },
   "source": [
    "**The test statistic 1.9720 is greater than the critical value of 1.6991. Hence, at .05 significance level, we can reject the claim that there is at most 2 grams of saturated fat in a cookie**"
   ]
  },
  {
   "cell_type": "markdown",
   "metadata": {
    "collapsed": false
   },
   "source": [
    "### <font color='blue'>Solution 2</font>"
   ]
  },
  {
   "cell_type": "code",
   "execution_count": 21,
   "metadata": {
    "collapsed": false
   },
   "outputs": [
    {
     "data": {
      "text/html": [
       "0.0283929473912902"
      ],
      "text/latex": [
       "0.0283929473912902"
      ],
      "text/markdown": [
       "0.0283929473912902"
      ],
      "text/plain": [
       "[1] 0.02839295"
      ]
     },
     "execution_count": 21,
     "metadata": {
     },
     "output_type": "execute_result"
    }
   ],
   "source": [
    "# compute the upper tail p-value of the test statistic\n",
    "pval = pt(t, df=n-1, lower.tail=FALSE) \n",
    "pval                   # upper tail p−value "
   ]
  },
  {
   "cell_type": "markdown",
   "metadata": {
    "collapsed": false
   },
   "source": [
    "**it is ess than the .05 significance level, we reject the null hypothesis that μ ≤ 2**"
   ]
  },
  {
   "cell_type": "markdown",
   "metadata": {
    "collapsed": false
   },
   "source": [
    "\n",
    "### <font color='red'>Remember</font> "
   ]
  },
  {
   "cell_type": "markdown",
   "metadata": {
    "collapsed": false
   },
   "source": [
    "**known Variance**<br>\n",
    "qnorm ()  What is the Z-score of the -th quantile of the normal distribution<br> pnorm ()  calculates cumulative distribution function of normal distribution\n",
    "\n",
    "**Unknown Variance**<br>\n",
    "qt () returns the value of the inverse cumulative density function of the Student t distribution given a certain random variable x and degrees of freedom df.<br>\n",
    "pt () returns the value of the cumulative density function  of the Student t distribution given a certain random variable x and degrees of freedom df\n",
    "\n",
    "**with upper tail**<br>\n",
    "add this argument <font color='red'>lower.tail=FALSE</font>  to pnorm() and pt()\n"
   ]
  },
  {
   "cell_type": "code",
   "execution_count": 0,
   "metadata": {
    "collapsed": false
   },
   "outputs": [
   ],
   "source": [
   ]
  }
 ],
 "metadata": {
  "kernelspec": {
   "display_name": "R (R-Project)",
   "language": "r",
   "metadata": {
    "cocalc": {
     "description": "R statistical programming language",
     "priority": 10,
     "url": "https://www.r-project.org/"
    }
   },
   "name": "ir"
  },
  "language_info": {
   "codemirror_mode": "r",
   "file_extension": ".r",
   "mimetype": "text/x-r-source",
   "name": "R",
   "pygments_lexer": "r",
   "version": "3.6.1"
  }
 },
 "nbformat": 4,
 "nbformat_minor": 0
}